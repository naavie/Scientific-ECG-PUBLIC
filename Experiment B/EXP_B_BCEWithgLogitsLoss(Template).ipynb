{
  "nbformat": 4,
  "nbformat_minor": 0,
  "metadata": {
    "colab": {
      "provenance": [],
      "collapsed_sections": [
        "3NkBSIobGVmV"
      ],
      "gpuType": "T4"
    },
    "kernelspec": {
      "name": "python3",
      "display_name": "Python 3"
    },
    "language_info": {
      "name": "python"
    },
    "accelerator": "GPU"
  },
  "cells": [
    {
      "cell_type": "markdown",
      "source": [
        "# Experiment B\n",
        "\n",
        "Objective: Train a 1D-CNN Image Encoder on the SPH dataset."
      ],
      "metadata": {
        "id": "ZivDbv549fpt"
      }
    },
    {
      "cell_type": "markdown",
      "source": [
        "Split the data into train, validation, test subsets.\n",
        "\n",
        "Example code for finding f1_thresholds\n",
        "\n",
        "```\n",
        "def find_threshold_f1(trues, logits, eps=1e-9):\n",
        "    precision, recall, thresholds = precision_recall_curve(trues, logits)\n",
        "    f1_scores = 2 * precision * recall / (precision + recall + eps)\n",
        "    threshold = float(thresholds[np.argmax(f1_scores)])  \n",
        "    return threshold\n",
        "```\n",
        "\n",
        "trues = true labels (binarized)\n",
        "logits = row outputs of the model (sigmoid output/probabilties)\n",
        "\n",
        "For each label, there will be individual thresholds.\n",
        "\n",
        "Filter out class samples where value counts < 100."
      ],
      "metadata": {
        "id": "iQZ58CmjDrNb"
      }
    },
    {
      "cell_type": "code",
      "execution_count": null,
      "metadata": {
        "id": "1hW0A51F9aDJ"
      },
      "outputs": [],
      "source": [
        "import sys\n",
        "import h5py\n",
        "from glob import glob\n",
        "import numpy as np\n",
        "import pandas as pd\n",
        "import torch\n",
        "from torch import nn\n",
        "import torch.nn.functional as F\n",
        "import matplotlib.pyplot as plt\n",
        "\n",
        "from sklearn.metrics import roc_auc_score, average_precision_score, f1_score, accuracy_score, precision_score, recall_score, f1_score\n",
        "\n",
        "from albumentations.pytorch import ToTensorV2\n",
        "from transformers import AutoTokenizer, AutoModel\n",
        "import albumentations as A\n",
        "\n",
        "from sklearn.model_selection import train_test_split\n",
        "from tqdm import tqdm\n",
        "import cv2\n",
        "import random\n",
        "import tarfile"
      ]
    },
    {
      "cell_type": "code",
      "source": [
        "import warnings\n",
        "warnings.filterwarnings('ignore')"
      ],
      "metadata": {
        "id": "QYF2rryR_Gma"
      },
      "execution_count": null,
      "outputs": []
    },
    {
      "cell_type": "code",
      "source": [
        "def set_seed(seed):\n",
        "    random.seed(seed)\n",
        "    np.random.seed(seed)\n",
        "    torch.manual_seed(seed)\n",
        "    if torch.cuda.is_available():\n",
        "        torch.cuda.manual_seed_all(seed)\n",
        "\n",
        "# Use a fixed seed value\n",
        "set_seed(42)"
      ],
      "metadata": {
        "id": "pvV07taz9qo5"
      },
      "execution_count": null,
      "outputs": []
    },
    {
      "cell_type": "markdown",
      "source": [
        "## Notebook Setup"
      ],
      "metadata": {
        "id": "WnJHz7Yo9hnP"
      }
    },
    {
      "cell_type": "code",
      "source": [
        "class CONFIG:\n",
        "    debug = False\n",
        "    batch_size = 256\n",
        "    num_workers = 8\n",
        "    head_lr = 0.001\n",
        "    image_encoder_lr = 0.001\n",
        "    patience = 5\n",
        "    factor = 0.8\n",
        "    epochs = 20\n",
        "    device = torch.device(\"cuda\" if torch.cuda.is_available() else \"cpu\")\n",
        "\n",
        "    # Image Model\n",
        "    model_name = 'resnet18'\n",
        "    image_embedding_size = 512\n",
        "\n",
        "    # Text Model\n",
        "    text_encoder_model = 'emilyalsentzer/Bio_ClinicalBERT'\n",
        "    text_tokenizer = 'emilyalsentzer/Bio_ClinicalBERT'\n",
        "    text_embedding_size = 768\n",
        "    max_length = 200\n",
        "\n",
        "    pretrained = True # for both image encoder and text encoder\n",
        "    trainable = True # for both image encoder and text encoder\n",
        "    temperature = 10.0\n",
        "    optimizer = torch.optim.Adam\n",
        "\n",
        "    # image size\n",
        "    size = 224\n",
        "\n",
        "    # for projection head; used for both image and text encoder\n",
        "    num_projection_layers = 1\n",
        "    projection_dim = 128\n",
        "    dropout = 0.0\n",
        "    ecg_sr = 128"
      ],
      "metadata": {
        "id": "QuHdpdG69uvR"
      },
      "execution_count": null,
      "outputs": []
    },
    {
      "cell_type": "code",
      "source": [
        "_ACTIVATION_DICT = {'relu': nn.ReLU,\n",
        "                    'tanh': nn.Tanh,\n",
        "                    'none': nn.Identity,\n",
        "                    'leaky_relu': lambda: nn.LeakyReLU(negative_slope=0.2)}\n",
        "\n",
        "\n",
        "class Conv1dBlock(nn.Module):\n",
        "    def __init__(self, in_channels, out_channels, kernel_size,\n",
        "                 act='relu', bn=True, dropout=None,\n",
        "                 maxpool=None, padding=None, stride=1):\n",
        "\n",
        "        super().__init__()\n",
        "\n",
        "        if padding is None or padding == 'same':\n",
        "            padding = kernel_size // 2\n",
        "\n",
        "        self.conv = nn.Conv1d(in_channels, out_channels, kernel_size, padding=padding, bias=not bn, stride=stride)\n",
        "        self.bn = nn.BatchNorm1d(out_channels) if bn else None\n",
        "        self.act = _ACTIVATION_DICT[act]()\n",
        "        self.dropout = None if dropout is None else nn.Dropout(dropout)\n",
        "        self.maxpool = None if maxpool is None else nn.MaxPool1d(maxpool)\n",
        "\n",
        "    def forward(self, x):\n",
        "        x = self.conv(x)\n",
        "\n",
        "        if self.bn is not None:\n",
        "            x = self.bn(x)\n",
        "\n",
        "        x = self.act(x)\n",
        "\n",
        "        if self.dropout is not None:\n",
        "            x = self.dropout(x)\n",
        "\n",
        "        if self.maxpool is not None:\n",
        "            x = self.maxpool(x)\n",
        "\n",
        "        return x\n",
        "\n",
        "\n",
        "class LinearBlock(nn.Module):\n",
        "    def __init__(self, in_channels, out_channels, act='relu', bn=True, dropout=None):\n",
        "\n",
        "        super().__init__()\n",
        "\n",
        "        self.linear = nn.Linear(in_channels, out_channels, bias=not bn)\n",
        "        self.bn = nn.BatchNorm1d(out_channels) if bn else None\n",
        "        self.act = _ACTIVATION_DICT[act]()\n",
        "        self.dropout = None if dropout is None else nn.Dropout(dropout)\n",
        "\n",
        "    def forward(self, x):\n",
        "        x = self.linear(x)\n",
        "\n",
        "        if self.bn is not None:\n",
        "            x = self.bn(x)\n",
        "\n",
        "        x = self.act(x)\n",
        "\n",
        "        if self.dropout is not None:\n",
        "            x = self.dropout(x)\n",
        "        return x\n",
        "\n",
        "\n",
        "class ConvEncoder(nn.Module):\n",
        "    def __init__(self, in_channels, channels, kernels, bn=True, dropout=None, maxpool=2, padding=0, stride=None):\n",
        "        super().__init__()\n",
        "\n",
        "\n",
        "\n",
        "        num_layers = len(channels)\n",
        "        if stride is None:\n",
        "            stride = [1] * num_layers\n",
        "\n",
        "        self.in_layer = Conv1dBlock(in_channels, channels[0], kernels[0], bn=bn, dropout=dropout, maxpool=maxpool, padding=padding, stride=stride[0])\n",
        "\n",
        "        conv_layers = list()\n",
        "        for i in range(1, num_layers):\n",
        "            conv_layers.append(Conv1dBlock(channels[i - 1], channels[i], kernels[i], bn=bn, dropout=dropout, maxpool=maxpool, padding=padding, stride=stride[i]))\n",
        "        self.conv_layers = nn.ModuleList(conv_layers)\n",
        "\n",
        "    def forward(self, x):\n",
        "        x = self.in_layer(x)\n",
        "        for layer in self.conv_layers:\n",
        "            x = layer(x)\n",
        "        return x\n",
        "\n",
        "\n",
        "class ECGEncoder(nn.Module):\n",
        "    def __init__(self,\n",
        "                 window=1280,\n",
        "                 in_channels=12,\n",
        "                 channels=(32, 32, 64, 64, 128, 128, 256, 256),\n",
        "                 kernels=(7, 7, 5, 5, 3, 3, 3, 3),\n",
        "                 linear=512,\n",
        "                 output=512):\n",
        "\n",
        "        super().__init__()\n",
        "\n",
        "        self.conv_encoder = ConvEncoder(in_channels, channels,  kernels, bn=True)\n",
        "\n",
        "        with torch.no_grad():\n",
        "            inpt = torch.zeros((1, in_channels, window), dtype=torch.float32)\n",
        "            outpt = self.conv_encoder(inpt)\n",
        "            output_window = outpt.shape[2]\n",
        "\n",
        "        self.flatten = nn.Flatten()\n",
        "        self.conv_to_linear = nn.Linear(output_window * channels[-1], linear)\n",
        "        self.act = nn.ReLU()\n",
        "        self.out_layer = nn.Linear(linear, output)\n",
        "\n",
        "    def forward(self, x):\n",
        "        x = self.conv_encoder(x)\n",
        "        x = self.flatten(x)\n",
        "        x = self.conv_to_linear(x)\n",
        "        x = self.act(x)\n",
        "        x = self.out_layer(x)\n",
        "        return x"
      ],
      "metadata": {
        "id": "oQgreeeP9xCz"
      },
      "execution_count": null,
      "outputs": []
    },
    {
      "cell_type": "markdown",
      "source": [
        "## Loading Data"
      ],
      "metadata": {
        "id": "AdyetVQi960i"
      }
    },
    {
      "cell_type": "code",
      "source": [
        "from google.colab import drive\n",
        "drive.mount('/content/drive', force_remount=True)"
      ],
      "metadata": {
        "colab": {
          "base_uri": "https://localhost:8080/"
        },
        "id": "cI-mIalI98Xe",
        "outputId": "0eaedce6-64cb-42f9-fcab-abcc450750a3"
      },
      "execution_count": null,
      "outputs": [
        {
          "output_type": "stream",
          "name": "stdout",
          "text": [
            "Mounted at /content/drive\n"
          ]
        }
      ]
    },
    {
      "cell_type": "code",
      "source": [
        "!cp -r  '/content/drive/MyDrive/ECG Project (Shared Folder)/SPH Database/metadata.csv' \"/content\"\n",
        "!cp -r '/content/drive/MyDrive/ECG Project (Shared Folder)/SPH Database/code.csv' \"/content\""
      ],
      "metadata": {
        "id": "oQ7pUzv09-pT"
      },
      "execution_count": null,
      "outputs": []
    },
    {
      "cell_type": "code",
      "source": [
        "!cp -r \"/content/drive/MyDrive/ECG Project (Shared Folder)/SPH Database/records.tar.gz\" \"/content\""
      ],
      "metadata": {
        "id": "7jd06zMv-CJL"
      },
      "execution_count": null,
      "outputs": []
    },
    {
      "cell_type": "code",
      "source": [
        "with tarfile.open('records.tar.gz', 'r') as tar_ref:\n",
        "    tar_ref.extractall('/content')"
      ],
      "metadata": {
        "id": "9UWX9gBJ-G0V"
      },
      "execution_count": null,
      "outputs": []
    },
    {
      "cell_type": "code",
      "source": [
        "data_path = '/content/records'"
      ],
      "metadata": {
        "id": "-_fC5yTe-Ii3"
      },
      "execution_count": null,
      "outputs": []
    },
    {
      "cell_type": "code",
      "source": [
        "ecg_files = sorted(glob(f'{data_path}/records/*.h5'))"
      ],
      "metadata": {
        "id": "wSwhZ5pu-JmL"
      },
      "execution_count": null,
      "outputs": []
    },
    {
      "cell_type": "code",
      "source": [
        "def load_h5(file):\n",
        "    with h5py.File(file, 'r') as f:\n",
        "        signal = f['ecg'][()]\n",
        "    fs = 500\n",
        "    leads = ('I', 'II', 'III', 'aVF', 'aVR', 'aVL', 'V1', 'V2', 'V3', 'V4', 'V5', 'V6')\n",
        "    return signal.astype('float32'), leads, fs\n",
        "\n",
        "\n",
        "def remove_nonprimary_code(x):\n",
        "    r = []\n",
        "    for cx in x:\n",
        "        for c in cx.split('+'):\n",
        "            if int(c) < 200 or int(c) >= 500:\n",
        "                if c not in r:\n",
        "                    r.append(c)\n",
        "    return r\n",
        "\n",
        "\n",
        "def codes_to_caption(codes):\n",
        "    classes = [description_dict[int(code)].lower() for code in codes]\n",
        "    caption = ', '.join(classes)\n",
        "    return caption\n",
        "\n",
        "df = pd.read_csv(f'/content/metadata.csv')\n",
        "df['primary_codes'] = df['AHA_Code'].str.split(';').apply(remove_nonprimary_code)\n",
        "description_dict = pd.read_csv(f'/content/code.csv').set_index('Code')['Description'].to_dict()\n",
        "df['label'] = df['primary_codes'].apply(codes_to_caption)\n",
        "df['ecg_file'] = df['ECG_ID'].apply(lambda x: f'/content/records/{x}.h5')"
      ],
      "metadata": {
        "id": "JnKUmH4d-K8H"
      },
      "execution_count": null,
      "outputs": []
    },
    {
      "cell_type": "code",
      "source": [
        "load_h5(df['ecg_file'].values[0])"
      ],
      "metadata": {
        "colab": {
          "base_uri": "https://localhost:8080/"
        },
        "id": "hJouU7Q7-PzD",
        "outputId": "109cc9df-05a5-457e-faee-949188a1a0c6"
      },
      "execution_count": null,
      "outputs": [
        {
          "output_type": "execute_result",
          "data": {
            "text/plain": [
              "(array([[ 0.02160645,  0.02160645,  0.02079773, ...,  0.05758667,\n",
              "          0.0552063 ,  0.05041504],\n",
              "        [ 0.1303711 ,  0.13195801,  0.13195801, ...,  0.03759766,\n",
              "          0.03839111,  0.03518677],\n",
              "        [ 0.10882568,  0.10961914,  0.11120605, ..., -0.02000427,\n",
              "         -0.01600647, -0.01439667],\n",
              "        ...,\n",
              "        [-0.05441284, -0.05441284, -0.05279541, ..., -0.02479553,\n",
              "         -0.02879333, -0.03439331],\n",
              "        [-0.03759766, -0.0368042 , -0.0368042 , ..., -0.02160645,\n",
              "         -0.02160645, -0.02400208],\n",
              "        [-0.06240845, -0.06240845, -0.06240845, ...,  0.        ,\n",
              "          0.00080013,  0.00080013]], dtype=float32),\n",
              " ('I', 'II', 'III', 'aVF', 'aVR', 'aVL', 'V1', 'V2', 'V3', 'V4', 'V5', 'V6'),\n",
              " 500)"
            ]
          },
          "metadata": {},
          "execution_count": 13
        }
      ]
    },
    {
      "cell_type": "code",
      "source": [
        "class ImageEncoder(nn.Module):\n",
        "\n",
        "    def __init__(self, config):\n",
        "        super().__init__()\n",
        "        self.config = CONFIG\n",
        "        self.encoder = ECGEncoder(output=CONFIG.image_embedding_size)\n",
        "        # Add some non-linear activation here like RELU because ECG encoder already returns linear layer so this will help.\n",
        "        self.fc = nn.Linear(CONFIG.image_embedding_size, 47)  # Added this line\n",
        "\n",
        "    def forward(self, x):\n",
        "        x = self.encoder(x)\n",
        "        x = self.fc(x)  # Added this line\n",
        "        return x\n",
        "\n",
        "\n",
        "class TextEncoder(nn.Module):\n",
        "    def __init__(self, config):\n",
        "        super().__init__()\n",
        "\n",
        "        self.config = CONFIG\n",
        "        if CONFIG.pretrained:\n",
        "            self.model = AutoModel.from_pretrained(CONFIG.text_encoder_model)\n",
        "        else:\n",
        "            self.model = AutoModel.from_config(CONFIG.text_encoder_model)\n",
        "\n",
        "        self.tokenizer = AutoTokenizer.from_pretrained(CONFIG.text_tokenizer)\n",
        "\n",
        "        for p in self.model.parameters():\n",
        "            p.requires_grad = False  # Set requires_grad to False for all parameters\n",
        "\n",
        "        # we are using the CLS token hidden representation as the sentence's embedding\n",
        "        self.target_token_idx = 0\n",
        "\n",
        "    def forward(self, texts):\n",
        "        input_ids, attention_mask = self.tokenize_texts(texts)\n",
        "        embeddinbgs = self.inputs_to_embeddings(input_ids, attention_mask)\n",
        "        return embeddinbgs\n",
        "\n",
        "    def tokenize_texts(self, texts):\n",
        "        inputs = self.tokenizer(texts, padding=True, truncation=True, max_length=self.CONFIG.max_length, return_tensors='pt')\n",
        "        input_ids = inputs['input_ids'].detach().to(self.CONFIG.device)\n",
        "        attention_mask = inputs['attention_mask'].detach().to(self.CONFIG.device)\n",
        "        return input_ids, attention_mask\n",
        "\n",
        "    def inputs_to_embeddings(self, input_ids, attention_mask):\n",
        "        output = self.model(input_ids=input_ids, attention_mask=attention_mask)\n",
        "        last_hidden_state = output.last_hidden_state\n",
        "        return last_hidden_state[:, self.target_token_idx, :].detach()\n",
        "\n",
        "\n",
        "class ProjectionHead(nn.Module):\n",
        "    def __init__(\n",
        "        self,\n",
        "        embedding_dim,\n",
        "        projection_dim=CONFIG.projection_dim,\n",
        "        dropout=CONFIG.dropout\n",
        "    ):\n",
        "        super().__init__()\n",
        "        self.projection = nn.Linear(embedding_dim, projection_dim)\n",
        "        self.gelu = nn.GELU()\n",
        "        self.fc = nn.Linear(projection_dim, projection_dim)\n",
        "        self.dropout = nn.Dropout(dropout)\n",
        "        self.layer_norm = nn.LayerNorm(projection_dim)\n",
        "\n",
        "    def forward(self, x):\n",
        "        projected = self.projection(x)\n",
        "        x = self.gelu(projected)\n",
        "        x = self.fc(x)\n",
        "        x = self.dropout(x)\n",
        "        x = x + projected\n",
        "        x = self.layer_norm(x)\n",
        "        return x\n",
        "\n",
        "class CLIPModel(nn.Module):\n",
        "    def __init__(\n",
        "        self,\n",
        "        temperature=CONFIG.temperature,\n",
        "        image_embedding=CONFIG.image_embedding_size,\n",
        "        text_embedding=CONFIG.text_embedding_size,\n",
        "    ):\n",
        "        super().__init__()\n",
        "        self.image_encoder = ImageEncoder(CONFIG)\n",
        "        self.text_encoder = TextEncoder(CONFIG)\n",
        "        self.image_projection = ProjectionHead(embedding_dim=image_embedding)\n",
        "        self.text_projection = ProjectionHead(embedding_dim=text_embedding)\n",
        "        self.temperature = temperature\n",
        "\n",
        "    def forward(self, batch):\n",
        "        image_embeddings = self.image_to_embeddings(batch['image'])\n",
        "        text_embeddings = self.text_to_embeddings(batch['caption'])\n",
        "\n",
        "        # Calculating the Loss\n",
        "        logits = (text_embeddings @ image_embeddings.T) / self.temperature\n",
        "        images_similarity = image_embeddings @ image_embeddings.T\n",
        "        texts_similarity = text_embeddings @ text_embeddings.T\n",
        "        targets = F.softmax((images_similarity + texts_similarity) / 2 * self.temperature, dim=-1)\n",
        "        texts_loss = cross_entropy(logits, targets, reduction='none')\n",
        "        images_loss = cross_entropy(logits.T, targets.T, reduction='none')\n",
        "        loss =  (images_loss + texts_loss) / 2.0 # shape: (batch_size)\n",
        "        return loss.mean(), image_embeddings, text_embeddings\n",
        "\n",
        "    def text_to_embeddings(self, texts):\n",
        "        text_features = self.text_encoder(texts)\n",
        "        text_embeddings = self.text_projection(text_features)\n",
        "        return text_embeddings\n",
        "\n",
        "    def image_to_embeddings(self, images):\n",
        "        image_features = self.image_encoder(images)\n",
        "        image_embeddings = self.image_projection(image_features)\n",
        "        return image_embeddings\n",
        "\n",
        "\n",
        "def cross_entropy(preds, targets, reduction='none'):\n",
        "    log_softmax = nn.LogSoftmax(dim=-1)\n",
        "    loss = (-targets * log_softmax(preds)).sum(1)\n",
        "    if reduction == \"none\":\n",
        "        return loss\n",
        "    elif reduction == \"mean\":\n",
        "        return loss.mean()\n",
        "\n",
        "\n",
        "def nxn_cos_sim(A, B, dim=1):\n",
        "    a_norm = F.normalize(A, p=2, dim=dim)\n",
        "    b_norm = F.normalize(B, p=2, dim=dim)\n",
        "    return torch.mm(a_norm, b_norm.transpose(0, 1))"
      ],
      "metadata": {
        "id": "gCT_6CTiD0o4"
      },
      "execution_count": null,
      "outputs": []
    },
    {
      "cell_type": "code",
      "source": [
        "class CLIP_ECG_Dataset(torch.utils.data.Dataset):\n",
        "    def __init__(self, df, config):\n",
        "        self.df = df\n",
        "        self.config = CONFIG\n",
        "\n",
        "        self.ecg_files = self.df['ecg_file'].values\n",
        "        self.captions = self.df['label'].values\n",
        "\n",
        "    def __len__(self, ):\n",
        "        return len(self.df)\n",
        "\n",
        "    def __getitem__(self, idx):\n",
        "        ecg, leads, sr = load_h5(self.ecg_files[idx])\n",
        "        ecg = ecg[:, :5000]\n",
        "        caption = self.captions[idx]\n",
        "        image = self.process_ecg(ecg, sr)\n",
        "        return {'image': image, 'caption': caption}\n",
        "\n",
        "    def process_ecg(self, ecg, sr):\n",
        "        new_shape = int(self.config.ecg_sr * ecg.shape[1] / sr)\n",
        "        ecg = resample(ecg, new_shape)\n",
        "        return ecg\n",
        "\n",
        "\n",
        "def resample(ecg, shape):\n",
        "    resized = cv2.resize(ecg, (shape, ecg.shape[0]))\n",
        "    resized = resized.astype(ecg.dtype)\n",
        "    return resized"
      ],
      "metadata": {
        "id": "vuaMDB-lD5BW"
      },
      "execution_count": null,
      "outputs": []
    },
    {
      "cell_type": "code",
      "source": [
        "train, valid = train_test_split(df, test_size=0.3, random_state=42)"
      ],
      "metadata": {
        "id": "r4MQDpbmD6iI"
      },
      "execution_count": null,
      "outputs": []
    },
    {
      "cell_type": "code",
      "source": [
        "def classes_from_captions(captions, threshold=100):\n",
        "    all_classes = [name.strip() for caption in captions for name in caption.strip().split(',')]\n",
        "    counts = pd.Series(all_classes).value_counts()\n",
        "    classes = counts[counts >= threshold].index.to_list()\n",
        "    return classes\n",
        "\n",
        "train_classes =  classes_from_captions(train['label'].values)\n",
        "valid_classes =  classes_from_captions(valid['label'].values)\n",
        "print(len(train_classes), len(valid_classes))"
      ],
      "metadata": {
        "colab": {
          "base_uri": "https://localhost:8080/"
        },
        "id": "B3i_8IpeD7ZE",
        "outputId": "371d678d-6c42-4715-b6fa-c0d8574ce332"
      },
      "execution_count": null,
      "outputs": [
        {
          "output_type": "stream",
          "name": "stdout",
          "text": [
            "18 13\n"
          ]
        }
      ]
    },
    {
      "cell_type": "code",
      "source": [
        "train_ds = CLIP_ECG_Dataset(train, CONFIG)\n",
        "valid_ds = CLIP_ECG_Dataset(valid, CONFIG)"
      ],
      "metadata": {
        "id": "RdZUgyrOD_mC"
      },
      "execution_count": null,
      "outputs": []
    },
    {
      "cell_type": "markdown",
      "source": [
        "### Example of data objects"
      ],
      "metadata": {
        "id": "PRXFHXOcEBpw"
      }
    },
    {
      "cell_type": "code",
      "source": [
        "# ECG signal\n",
        "train_ds[0]['image']"
      ],
      "metadata": {
        "colab": {
          "base_uri": "https://localhost:8080/"
        },
        "id": "JSPdPQZGEDkc",
        "outputId": "e571c2ca-d8a6-4ff3-f5dd-dc64cef6269b"
      },
      "execution_count": null,
      "outputs": [
        {
          "output_type": "execute_result",
          "data": {
            "text/plain": [
              "array([[-0.01913643,  0.06218195,  0.05179119, ..., -0.00331165,\n",
              "        -0.01490986, -0.00428778],\n",
              "       [-0.06293344, -0.00512707, -0.02361894, ..., -0.05451632,\n",
              "        -0.07244587, -0.0581708 ],\n",
              "       [-0.0437665 , -0.06813908, -0.07619953, ..., -0.05083656,\n",
              "        -0.05754423, -0.05309439],\n",
              "       ...,\n",
              "       [-0.07562923, -0.04300499, -0.04617596, ..., -0.08976078,\n",
              "        -0.09810352, -0.09272671],\n",
              "       [-0.0504756 , -0.017416  , -0.01658916, ..., -0.07239342,\n",
              "        -0.07944679, -0.07958317],\n",
              "       [-0.04530811, -0.00483952, -0.00021254, ..., -0.06540203,\n",
              "        -0.06481934, -0.06525326]], dtype=float32)"
            ]
          },
          "metadata": {},
          "execution_count": 19
        }
      ]
    },
    {
      "cell_type": "code",
      "source": [
        "# Label(s)\n",
        "train_ds[0]['caption']"
      ],
      "metadata": {
        "colab": {
          "base_uri": "https://localhost:8080/",
          "height": 35
        },
        "id": "AG9cbKyoFJEJ",
        "outputId": "d6ef8c2a-40a1-467d-9048-a75f5f7dbba0"
      },
      "execution_count": null,
      "outputs": [
        {
          "output_type": "execute_result",
          "data": {
            "text/plain": [
              "'sinus bradycardia, atrial premature complex(es), sinus arrhythmia'"
            ],
            "application/vnd.google.colaboratory.intrinsic+json": {
              "type": "string"
            }
          },
          "metadata": {},
          "execution_count": 20
        }
      ]
    },
    {
      "cell_type": "markdown",
      "source": [
        "## Model Training Setup"
      ],
      "metadata": {
        "id": "HiYKfY7JFSlu"
      }
    },
    {
      "cell_type": "markdown",
      "source": [
        "### Create X_train, y_train, X_test, y_test variables"
      ],
      "metadata": {
        "id": "5rTpAIcsFWg_"
      }
    },
    {
      "cell_type": "code",
      "source": [
        "X_train = []\n",
        "y_train = []\n",
        "for i in range(len(train_ds)):\n",
        "    sample = train_ds[i]\n",
        "    X_train.append(sample['image'])\n",
        "    y_train.append(sample['caption'])\n",
        "\n",
        "X_test = []\n",
        "y_test = []\n",
        "for i in range(len(valid_ds)):\n",
        "    sample = valid_ds[i]\n",
        "    X_test.append(sample['image'])\n",
        "    y_test.append(sample['caption'])"
      ],
      "metadata": {
        "id": "MBa6Hme8FO0l"
      },
      "execution_count": null,
      "outputs": []
    },
    {
      "cell_type": "code",
      "source": [
        "len(X_train), len(y_train), len(X_test), len(y_test)"
      ],
      "metadata": {
        "colab": {
          "base_uri": "https://localhost:8080/"
        },
        "id": "G63xc-foFj2J",
        "outputId": "b0d70aaf-6a54-469f-d6a7-3f69f008e864"
      },
      "execution_count": null,
      "outputs": [
        {
          "output_type": "execute_result",
          "data": {
            "text/plain": [
              "(18039, 18039, 7731, 7731)"
            ]
          },
          "metadata": {},
          "execution_count": 22
        }
      ]
    },
    {
      "cell_type": "markdown",
      "source": [
        "### OHE multiclass labels for y_train, y_test"
      ],
      "metadata": {
        "id": "sUIpsHXlFmbI"
      }
    },
    {
      "cell_type": "code",
      "source": [
        "from sklearn.preprocessing import MultiLabelBinarizer\n",
        "\n",
        "y_train_labels = [labels.split(', ') for labels in y_train]\n",
        "y_test_labels = [labels.split(', ') for labels in y_test]\n",
        "\n",
        "# Create a MultiLabelBinarizer object\n",
        "mlb = MultiLabelBinarizer()\n",
        "\n",
        "# Fit the MultiLabelBinarizer and transform the labels\n",
        "y_train_binary = mlb.fit_transform(y_train_labels)\n",
        "y_test_binary = mlb.transform(y_test_labels)"
      ],
      "metadata": {
        "id": "EPnYEGyKFtl-"
      },
      "execution_count": null,
      "outputs": []
    },
    {
      "cell_type": "code",
      "source": [
        "# Convert data and labels to tensors\n",
        "X_train_tensor = torch.tensor(X_train, dtype=torch.float32)\n",
        "y_train_tensor = torch.tensor(y_train_binary, dtype=torch.float32)\n",
        "\n",
        "X_test_tensor = torch.tensor(X_test, dtype=torch.float32)\n",
        "y_test_tensor = torch.tensor(y_test_binary, dtype=torch.float32)"
      ],
      "metadata": {
        "id": "JezcshFjF1zY"
      },
      "execution_count": null,
      "outputs": []
    },
    {
      "cell_type": "code",
      "source": [
        "# len(X_train_tensor), len(y_train_tensor), len(X_test_tensor), len(y_test_tensor)"
      ],
      "metadata": {
        "id": "aNIkTzewF3S0"
      },
      "execution_count": null,
      "outputs": []
    },
    {
      "cell_type": "code",
      "source": [
        "print(mlb.classes_)"
      ],
      "metadata": {
        "colab": {
          "base_uri": "https://localhost:8080/"
        },
        "id": "94HXKO4BF4me",
        "outputId": "0a7d02fe-7d6f-4570-d823-1c08bd4f96fa"
      },
      "execution_count": null,
      "outputs": [
        {
          "output_type": "stream",
          "name": "stdout",
          "text": [
            "['2:1 av block' 'advanced (high-grade)' 'anterior mi' 'anteroseptal mi'\n",
            " 'atrial fibrillation' 'atrial flutter' 'atrial premature complex(es)'\n",
            " 'atrial premature complexes' 'av block' 'av conduction ratio n:d'\n",
            " 'complete (third-degree)' 'early repolarization' 'extensive anterior mi'\n",
            " 'incomplete right bundle-branch block' 'inferior mi'\n",
            " 'junctional escape complex(es)' 'junctional premature complex(es)'\n",
            " 'junctional tachycardia' 'left anterior fascicular block'\n",
            " 'left atrial enlargement' 'left bundle-branch block'\n",
            " 'left posterior fascicular block' 'left ventricular hypertrophy'\n",
            " 'left-axis deviation' 'low voltage' 'mobitz type i (wenckebach)'\n",
            " 'mobitz type ii' 'nonconducted' 'normal ecg' 'prolonged pr interval'\n",
            " 'prolonged qt interval' 'right bundle-branch block'\n",
            " 'right ventricular hypertrophy' 'right-axis deviation'\n",
            " 'second-degree av block' 'short pr interval' 'sinus arrhythmia'\n",
            " 'sinus bradycardia' 'sinus tachycardia' 'st deviation'\n",
            " 'st deviation with t-wave change'\n",
            " 'st-t change due to ventricular hypertrophy' 't-wave abnormality'\n",
            " 'tu fusion' 'varying conduction' 'ventricular preexcitation'\n",
            " 'ventricular premature complex(es)']\n"
          ]
        }
      ]
    },
    {
      "cell_type": "code",
      "source": [
        "mlb_classes = ['2:1 av block', 'advanced (high-grade)', 'anterior mi', 'anteroseptal mi',\n",
        " 'atrial fibrillation', 'atrial flutter', 'atrial premature complex(es)',\n",
        " 'atrial premature complexes', 'av block', 'av conduction ratio n:d',\n",
        " 'complete (third-degree)', 'early repolarization', 'extensive anterior mi',\n",
        " 'incomplete right bundle-branch block', 'inferior mi',\n",
        " 'junctional escape complex(es)', 'junctional premature complex(es)',\n",
        " 'junctional tachycardia', 'left anterior fascicular block',\n",
        " 'left atrial enlargement', 'left bundle-branch block',\n",
        " 'left posterior fascicular block', 'left ventricular hypertrophy',\n",
        " 'left-axis deviation', 'low voltage', 'mobitz type i (wenckebach)',\n",
        " 'mobitz type ii', 'nonconducted', 'normal ecg', 'prolonged pr interval',\n",
        " 'prolonged qt interval', 'right bundle-branch block',\n",
        " 'right ventricular hypertrophy', 'right-axis deviation',\n",
        " 'second-degree av block', 'short pr interval', 'sinus arrhythmia',\n",
        " 'sinus bradycardia', 'sinus tachycardia', 'st deviation',\n",
        " 'st deviation with t-wave change',\n",
        " 'st-t change due to ventricular hypertrophy', 't-wave abnormality',\n",
        " 'tu fusion', 'varying conduction', 'ventricular preexcitation',\n",
        " 'ventricular premature complex(es)']"
      ],
      "metadata": {
        "id": "ab-XfaXLGCPO"
      },
      "execution_count": null,
      "outputs": []
    },
    {
      "cell_type": "markdown",
      "source": [
        "### Create TensorDataset and Dataloader objections respectively"
      ],
      "metadata": {
        "id": "qKjP4LI4GNyh"
      }
    },
    {
      "cell_type": "code",
      "source": [
        "from torch.utils.data import TensorDataset, DataLoader\n",
        "\n",
        "# Create TensorDatasets\n",
        "train_dataset = TensorDataset(X_train_tensor, y_train_tensor)\n",
        "test_dataset = TensorDataset(X_test_tensor, y_test_tensor)\n",
        "\n",
        "# Create DataLoaders\n",
        "train_loader = DataLoader(train_dataset,\n",
        "                          batch_size=CONFIG.batch_size,\n",
        "                          num_workers=CONFIG.num_workers,\n",
        "                          shuffle=True)\n",
        "\n",
        "test_loader = DataLoader(test_dataset,\n",
        "                         batch_size=CONFIG.batch_size,\n",
        "                         num_workers=CONFIG.num_workers,\n",
        "                         shuffle=False)"
      ],
      "metadata": {
        "id": "EyzAo3_RGRCo"
      },
      "execution_count": null,
      "outputs": []
    },
    {
      "cell_type": "code",
      "source": [
        "from torch.utils.data import random_split\n",
        "\n",
        "# Determine the lengths of the splits\n",
        "train_len = int(0.7 * len(train_dataset))  # 80% for training\n",
        "val_len = len(train_dataset) - train_len   # 20% for validation\n",
        "\n",
        "# Create the subsets\n",
        "train_subset, val_subset = random_split(train_dataset, [train_len, val_len])\n",
        "\n",
        "# Create DataLoaders for the subsets\n",
        "train_loader = DataLoader(train_subset,\n",
        "                          batch_size=CONFIG.batch_size,\n",
        "                          num_workers=CONFIG.num_workers,\n",
        "                          shuffle=True)\n",
        "\n",
        "val_loader = DataLoader(val_subset,\n",
        "                        batch_size=CONFIG.batch_size,\n",
        "                        num_workers=CONFIG.num_workers,\n",
        "                        shuffle=False)"
      ],
      "metadata": {
        "id": "K9pmHqqk_z2e"
      },
      "execution_count": null,
      "outputs": []
    },
    {
      "cell_type": "markdown",
      "source": [
        "## Accuracy Metrics/Helper Code"
      ],
      "metadata": {
        "id": "3NkBSIobGVmV"
      }
    },
    {
      "cell_type": "code",
      "source": [
        "def calc_metrics(image_embeddings, captions, class_embeddings, class_names):\n",
        "    similarity = nxn_cos_sim(image_embeddings, class_embeddings, dim=1)\n",
        "    predictions_ids = similarity.argmax(dim=1)\n",
        "    predictions = [class_names[idx] for idx in predictions_ids]\n",
        "    tps = [prediction in caption for prediction, caption in zip(predictions, captions)]\n",
        "    accuracy = np.mean(tps)\n",
        "\n",
        "    results = dict()\n",
        "    results['accuracy'] = accuracy\n",
        "\n",
        "    similarity = similarity.detach().cpu().numpy()\n",
        "    for i, name in enumerate(class_names):\n",
        "\n",
        "        true = np.array([name in caption for caption in captions]).astype('int32')\n",
        "\n",
        "        if true.std() > 0:\n",
        "            results[f'{name}_rocauc'] = roc_auc_score(true, similarity[:, i])\n",
        "            results[f'{name}_prauc'] = average_precision_score(true, similarity[:, i])\n",
        "        else:\n",
        "            results[f'{name}_rocauc'] = None\n",
        "            results[f'{name}_prauc'] = None\n",
        "\n",
        "    return results\n",
        "\n",
        "def calc_accuracy(image_embeddings, captions, class_embeddings, class_names):\n",
        "    similarity = nxn_cos_sim(image_embeddings, class_embeddings, dim=1)\n",
        "    predictions_ids = similarity.argmax(dim=1)\n",
        "    predictions = [class_names[idx] for idx in predictions_ids]\n",
        "    tps = [prediction in caption for prediction, caption in zip(predictions, captions)]\n",
        "    accuracy = np.mean(tps)\n",
        "    return accuracy"
      ],
      "metadata": {
        "id": "XqOiFlFJGYaM"
      },
      "execution_count": null,
      "outputs": []
    },
    {
      "cell_type": "code",
      "source": [
        "class AvgMeter:\n",
        "    def __init__(self, name=\"Metric\"):\n",
        "        self.name = name\n",
        "        self.reset()\n",
        "\n",
        "    def reset(self):\n",
        "        self.avg, self.sum, self.count = [0] * 3\n",
        "\n",
        "    def update(self, val, count=1):\n",
        "        self.count += count\n",
        "        self.sum += val * count\n",
        "        self.avg = self.sum / self.count\n",
        "\n",
        "    def __repr__(self):\n",
        "        text = f\"{self.name}: {self.avg:.4f}\"\n",
        "        return text"
      ],
      "metadata": {
        "id": "VXINFo6SGadf"
      },
      "execution_count": null,
      "outputs": []
    },
    {
      "cell_type": "markdown",
      "source": [
        "## Model Training"
      ],
      "metadata": {
        "id": "rXHtTtefGbKL"
      }
    },
    {
      "cell_type": "code",
      "source": [
        "def plot_training_history(epoch_losses, epoch_accuracies):\n",
        "    epochs = range(1, len(epoch_losses) + 1)\n",
        "\n",
        "    plt.figure(figsize=(12, 5))\n",
        "\n",
        "    plt.subplot(1, 2, 1)\n",
        "    plt.plot(epochs, epoch_losses, 'b', label='Training loss')\n",
        "    plt.title('Training loss')\n",
        "    plt.xlabel('Epochs')\n",
        "    plt.ylabel('Loss')\n",
        "    plt.legend()\n",
        "    plt.xticks(range(1, 11))  # Set xticks from 1 through 10\n",
        "\n",
        "    plt.subplot(1, 2, 2)\n",
        "    plt.plot(epochs, epoch_accuracies, 'b', label='Training accuracy')\n",
        "    plt.title('Training accuracy')\n",
        "    plt.xlabel('Epochs')\n",
        "    plt.ylabel('Accuracy')\n",
        "    plt.legend()\n",
        "    plt.xticks(range(1, 11))  # Set xticks from 1 through 10\n",
        "\n",
        "    plt.tight_layout()\n",
        "    plt.show()"
      ],
      "metadata": {
        "id": "97Qvjf4NX_Wh"
      },
      "execution_count": null,
      "outputs": []
    },
    {
      "cell_type": "code",
      "source": [
        "# Instantiate the model\n",
        "model = ImageEncoder(CONFIG)"
      ],
      "metadata": {
        "id": "mVvb-IhGGcbS"
      },
      "execution_count": null,
      "outputs": []
    },
    {
      "cell_type": "code",
      "source": [
        "# Define the loss function and optimizer\n",
        "criterion = nn.BCEWithLogitsLoss()\n",
        "optimizer = torch.optim.Adam(model.parameters())\n",
        "num_epochs = 10\n",
        "device = torch.device(\"cuda\" if torch.cuda.is_available() else \"cpu\")"
      ],
      "metadata": {
        "id": "TvNv_klGGouB"
      },
      "execution_count": null,
      "outputs": []
    },
    {
      "cell_type": "code",
      "source": [
        "model.to(device)"
      ],
      "metadata": {
        "id": "eNOPaV-cWlhu"
      },
      "execution_count": null,
      "outputs": []
    },
    {
      "cell_type": "code",
      "source": [
        "for inputs, labels in train_loader:\n",
        "    print(inputs.shape, labels)\n",
        "    break"
      ],
      "metadata": {
        "colab": {
          "base_uri": "https://localhost:8080/"
        },
        "id": "_Rc7w0NfGp0I",
        "outputId": "b096d50a-8d2a-4c73-9a02-5352b0d39b63"
      },
      "execution_count": null,
      "outputs": [
        {
          "output_type": "stream",
          "name": "stdout",
          "text": [
            "torch.Size([256, 12, 1280]) tensor([[0., 0., 0.,  ..., 0., 0., 0.],\n",
            "        [0., 0., 0.,  ..., 0., 0., 0.],\n",
            "        [0., 0., 0.,  ..., 0., 0., 0.],\n",
            "        ...,\n",
            "        [0., 0., 0.,  ..., 0., 0., 0.],\n",
            "        [0., 0., 0.,  ..., 0., 0., 0.],\n",
            "        [0., 0., 0.,  ..., 0., 0., 0.]])\n"
          ]
        }
      ]
    },
    {
      "cell_type": "markdown",
      "source": [
        "### sigmoid training"
      ],
      "metadata": {
        "id": "-np7cB_2Lk7D"
      }
    },
    {
      "cell_type": "code",
      "source": [
        "from sklearn.metrics import precision_recall_curve\n",
        "\n",
        "def find_threshold_f1(trues, logits, eps=1e-9):\n",
        "    precision, recall, thresholds = precision_recall_curve(trues, logits)\n",
        "    f1_scores = 2 * precision * recall / (precision + recall + eps)\n",
        "    threshold = float(thresholds[np.argmax(f1_scores)])\n",
        "    return threshold"
      ],
      "metadata": {
        "id": "LcwblgOjCRzN"
      },
      "execution_count": null,
      "outputs": []
    },
    {
      "cell_type": "code",
      "source": [
        "def train_model(model, criterion, optimizer, num_epochs, train_loader, val_loader, device):\n",
        "    # Initialize a dictionary to store the F1 scores and thresholds for each label\n",
        "    f1_scores_per_label = {label: [] for label in mlb_classes}\n",
        "    thresholds_per_label = {label: [] for label in mlb_classes}\n",
        "\n",
        "    for epoch in range(num_epochs):\n",
        "        # Training phase\n",
        "        model.train()\n",
        "        running_loss = 0.0\n",
        "        preds_list = []\n",
        "        labels_list = []\n",
        "\n",
        "        for inputs, labels in train_loader:\n",
        "            inputs = inputs.to(device)\n",
        "            labels = labels.to(device)\n",
        "\n",
        "            # Forward pass\n",
        "            outputs = model(inputs)\n",
        "            loss = criterion(outputs, labels)\n",
        "\n",
        "            # Backward pass and optimization\n",
        "            optimizer.zero_grad()\n",
        "            loss.backward()\n",
        "            optimizer.step()\n",
        "\n",
        "            # Get the predicted classes for each example in the batch\n",
        "            outputs = torch.sigmoid(outputs)\n",
        "            preds = (outputs > 0.5).float()\n",
        "\n",
        "            # Store the predicted and true labels for later calculation of F1 score\n",
        "            preds_list.append(preds.cpu().numpy())\n",
        "            labels_list.append(labels.cpu().numpy())\n",
        "\n",
        "            running_loss += loss.item()\n",
        "\n",
        "        # Validation phase\n",
        "        model.eval()\n",
        "        val_preds_list = []\n",
        "        val_labels_list = []\n",
        "\n",
        "        with torch.no_grad():\n",
        "            for inputs, labels in val_loader:\n",
        "                inputs = inputs.to(device)\n",
        "                labels = labels.to(device)\n",
        "\n",
        "                outputs = model(inputs)\n",
        "                outputs = torch.sigmoid(outputs)\n",
        "\n",
        "                val_preds_list.append(outputs.cpu().numpy())\n",
        "                val_labels_list.append(labels.cpu().numpy())\n",
        "\n",
        "        # Calculate the F1 score and threshold for each label\n",
        "        val_preds_array = np.vstack(val_preds_list)\n",
        "        val_labels_array = np.vstack(val_labels_list)\n",
        "\n",
        "        for i, label in enumerate(mlb_classes):\n",
        "            threshold = find_threshold_f1(val_labels_array[:, i], val_preds_array[:, i])\n",
        "            preds = (val_preds_array[:, i] > threshold).astype(int)\n",
        "\n",
        "            label_f1 = f1_score(val_labels_array[:, i], preds)\n",
        "            f1_scores_per_label[label].append(label_f1)\n",
        "            thresholds_per_label[label].append(threshold)\n",
        "\n",
        "        epoch_loss = running_loss / len(train_loader.dataset)\n",
        "\n",
        "        print(f'Epoch {epoch+1}/{num_epochs}, Loss: {epoch_loss}')\n",
        "\n",
        "    return model, f1_scores_per_label, thresholds_per_label"
      ],
      "metadata": {
        "id": "rvHgUeKCBkTG"
      },
      "execution_count": null,
      "outputs": []
    },
    {
      "cell_type": "code",
      "source": [
        "trained_model, f1_scores_per_label, thresholds_per_label = train_model(model, criterion, optimizer, num_epochs, train_loader, val_loader, device)"
      ],
      "metadata": {
        "colab": {
          "base_uri": "https://localhost:8080/"
        },
        "id": "OQgqOUXO9btQ",
        "outputId": "7d41e907-bd73-46e9-d3ad-bbd204498ddb"
      },
      "execution_count": null,
      "outputs": [
        {
          "output_type": "stream",
          "name": "stdout",
          "text": [
            "Epoch 1/10, Loss: 0.0004390630069472515\n",
            "Epoch 2/10, Loss: 0.00020747224003645363\n",
            "Epoch 3/10, Loss: 0.00018480859700995442\n",
            "Epoch 4/10, Loss: 0.00016999281538659098\n",
            "Epoch 5/10, Loss: 0.00015760898688036443\n",
            "Epoch 6/10, Loss: 0.00014542886805740172\n",
            "Epoch 7/10, Loss: 0.00013448310014498605\n",
            "Epoch 8/10, Loss: 0.0001262946164531531\n",
            "Epoch 9/10, Loss: 0.00011669035089042394\n",
            "Epoch 10/10, Loss: 0.00010979735969062126\n"
          ]
        }
      ]
    },
    {
      "cell_type": "code",
      "source": [
        "f1_scores_df = pd.DataFrame(f1_scores_per_label)\n",
        "print(f1_scores_df)"
      ],
      "metadata": {
        "id": "uniq5ddrCV7a"
      },
      "execution_count": null,
      "outputs": []
    },
    {
      "cell_type": "code",
      "source": [
        "thresholds_per_label_df = pd.DataFrame(thresholds_per_label)\n",
        "print(thresholds_per_label_df)"
      ],
      "metadata": {
        "id": "b5gu63iuDj7Y"
      },
      "execution_count": null,
      "outputs": []
    },
    {
      "cell_type": "markdown",
      "source": [
        "### sigmoid evaluation"
      ],
      "metadata": {
        "id": "DWFWqi0fLoRW"
      }
    },
    {
      "cell_type": "code",
      "source": [
        "from sklearn.metrics import f1_score, accuracy_score, roc_auc_score, average_precision_score\n",
        "\n",
        "def evaluate_model(model, test_loader, device, threshold=0.5):\n",
        "    model.eval()\n",
        "    test_preds_list = []\n",
        "    test_labels_list = []\n",
        "\n",
        "    with torch.no_grad():\n",
        "        for inputs, labels in test_loader:\n",
        "            inputs = inputs.to(device)\n",
        "            labels = labels.to(device)\n",
        "\n",
        "            outputs = model(inputs)\n",
        "            outputs = torch.sigmoid(outputs)\n",
        "\n",
        "            test_preds_list.append(outputs.cpu().numpy())\n",
        "            test_labels_list.append(labels.cpu().numpy())\n",
        "\n",
        "    # Calculate the F1 score, accuracy, AUC-ROC and AUC-PR for each label\n",
        "    test_preds_array = np.vstack(test_preds_list)\n",
        "    test_labels_array = np.vstack(test_labels_list)\n",
        "\n",
        "    f1_scores_per_label = {}\n",
        "    accuracy_per_label = {}\n",
        "    roc_auc_scores_per_label = {}\n",
        "    pr_auc_scores_per_label = {}\n",
        "\n",
        "    for i, label in enumerate(mlb_classes):\n",
        "        preds = (test_preds_array[:, i] > threshold).astype(int)\n",
        "\n",
        "        label_f1 = f1_score(test_labels_array[:, i], preds)\n",
        "        label_accuracy = accuracy_score(test_labels_array[:, i], preds)\n",
        "\n",
        "        if len(np.unique(test_labels_array[:, i])) > 1:  # Check if the label has more than one unique class\n",
        "            label_roc_auc = roc_auc_score(test_labels_array[:, i], test_preds_array[:, i])\n",
        "            label_pr_auc = average_precision_score(test_labels_array[:, i], test_preds_array[:, i])\n",
        "        else:\n",
        "            label_roc_auc = None\n",
        "            label_pr_auc = None\n",
        "\n",
        "        f1_scores_per_label[label] = label_f1\n",
        "        accuracy_per_label[label] = label_accuracy\n",
        "        roc_auc_scores_per_label[label] = label_roc_auc\n",
        "        pr_auc_scores_per_label[label] = label_pr_auc\n",
        "\n",
        "    return f1_scores_per_label, accuracy_per_label, roc_auc_scores_per_label, pr_auc_scores_per_label"
      ],
      "metadata": {
        "id": "oknJ6d6KL47H"
      },
      "execution_count": null,
      "outputs": []
    },
    {
      "cell_type": "code",
      "source": [
        "f1_scores_per_label_test, accuracy_per_label_test, roc_auc_scores_per_label_test, pr_auc_scores_per_label_test = evaluate_model(model, test_loader, device, threshold=0.5)"
      ],
      "metadata": {
        "id": "uQEwfUWVD_UA"
      },
      "execution_count": null,
      "outputs": []
    },
    {
      "cell_type": "code",
      "source": [
        "baseline_results_df = pd.DataFrame({\n",
        "    'F1 Score': f1_scores_per_label_test,\n",
        "    'Accuracy': accuracy_per_label_test,\n",
        "    'ROC AUC': roc_auc_scores_per_label_test,\n",
        "    'PR AUC': pr_auc_scores_per_label_test\n",
        "})\n",
        "\n",
        "# Transpose the DataFrame so that each row corresponds to a diagnosis and each column corresponds to a score\n",
        "baseline_results_df = baseline_results_df.T"
      ],
      "metadata": {
        "id": "YNB2KHcqHNyM"
      },
      "execution_count": null,
      "outputs": []
    },
    {
      "cell_type": "markdown",
      "source": [
        "- F1 Score: This is the harmonic mean of precision and recall. A higher F1 score means that the classifier has a better balance between precision and recall. A score of 1.0 is perfect, and a score of 0.0 is the worst.\n",
        "\n",
        "- Accuracy: This is the proportion of true results (both true positives and true negatives) among the total number of cases examined. A higher accuracy means that the classifier is correct more often. A score of 1.0 is perfect, and a score of 0.0 is the worst.\n",
        "\n",
        "- ROC AUC: This is the area under the receiver operating characteristic curve. A higher ROC AUC means that the classifier is better at distinguishing between positive and negative instances. A score of 1.0 is perfect, and a score of 0.0 is the worst.\n",
        "\n",
        "- PR AUC: This is the area under the precision-recall curve. A higher PR AUC means that the classifier is better at producing high precision at different recall levels. A score of 1.0 is perfect, and a score of 0.0 is the worst."
      ],
      "metadata": {
        "id": "OrRqq_mcIq2l"
      }
    },
    {
      "cell_type": "code",
      "source": [
        "pd.set_option('display.max_columns', None)\n",
        "baseline_results_df"
      ],
      "metadata": {
        "colab": {
          "base_uri": "https://localhost:8080/",
          "height": 282
        },
        "id": "t4k2NOgYHp-x",
        "outputId": "b1d4977d-b4c7-402b-8113-396395c1ca3b"
      },
      "execution_count": null,
      "outputs": [
        {
          "output_type": "execute_result",
          "data": {
            "text/plain": [
              "          2:1 av block  advanced (high-grade)  anterior mi  anteroseptal mi  \\\n",
              "F1 Score      0.000000                    0.0     0.000000         0.000000   \n",
              "Accuracy      0.998577                    1.0     0.997801         0.996378   \n",
              "ROC AUC       0.996703                    NaN     0.930996         0.935971   \n",
              "PR AUC        0.407591                    NaN     0.162119         0.097391   \n",
              "\n",
              "          atrial fibrillation  atrial flutter  atrial premature complex(es)  \\\n",
              "F1 Score             0.753388        0.250000                      0.392593   \n",
              "Accuracy             0.988229        0.996896                      0.978787   \n",
              "ROC AUC              0.993662        0.984876                      0.891075   \n",
              "PR AUC               0.869928        0.367964                      0.376989   \n",
              "\n",
              "          atrial premature complexes  av block  av conduction ratio n:d  \\\n",
              "F1 Score                    0.000000  0.000000                 0.000000   \n",
              "Accuracy                    0.999871  0.997154                 0.999871   \n",
              "ROC AUC                     0.934023  0.982665                 0.986805   \n",
              "PR AUC                      0.001957  0.171483                 0.009709   \n",
              "\n",
              "          complete (third-degree)  early repolarization  \\\n",
              "F1 Score                 0.000000              0.000000   \n",
              "Accuracy                 0.998965              0.998448   \n",
              "ROC AUC                  0.991325              0.871723   \n",
              "PR AUC                   0.281624              0.007611   \n",
              "\n",
              "          extensive anterior mi  incomplete right bundle-branch block  \\\n",
              "F1 Score                    0.0                              0.233645   \n",
              "Accuracy                    1.0                              0.957573   \n",
              "ROC AUC                     NaN                              0.887340   \n",
              "PR AUC                      NaN                              0.424138   \n",
              "\n",
              "          inferior mi  junctional escape complex(es)  \\\n",
              "F1 Score     0.000000                       0.000000   \n",
              "Accuracy     0.995085                       0.999353   \n",
              "ROC AUC      0.786850                       0.954207   \n",
              "PR AUC       0.032706                       0.053134   \n",
              "\n",
              "          junctional premature complex(es)  junctional tachycardia  \\\n",
              "F1 Score                          0.000000                0.000000   \n",
              "Accuracy                          0.997672                0.999612   \n",
              "ROC AUC                           0.900435                0.960533   \n",
              "PR AUC                            0.021231                0.008861   \n",
              "\n",
              "          left anterior fascicular block  left atrial enlargement  \\\n",
              "F1 Score                        0.000000                 0.000000   \n",
              "Accuracy                        0.994050                 0.999353   \n",
              "ROC AUC                         0.952643                 0.798059   \n",
              "PR AUC                          0.283266                 0.042363   \n",
              "\n",
              "          left bundle-branch block  left posterior fascicular block  \\\n",
              "F1 Score                  0.560000                         0.000000   \n",
              "Accuracy                  0.998577                         0.999871   \n",
              "ROC AUC                   0.999770                         0.985252   \n",
              "PR AUC                    0.935673                         0.008696   \n",
              "\n",
              "          left ventricular hypertrophy  left-axis deviation  low voltage  \\\n",
              "F1 Score                      0.061538             0.000000     0.323450   \n",
              "Accuracy                      0.992110             0.995473     0.967533   \n",
              "ROC AUC                       0.939656             0.908806     0.939171   \n",
              "PR AUC                        0.350619             0.054358     0.287207   \n",
              "\n",
              "          mobitz type i (wenckebach)  mobitz type ii  nonconducted  \\\n",
              "F1 Score                    0.000000        0.000000      0.000000   \n",
              "Accuracy                    0.999741        0.999871      0.999871   \n",
              "ROC AUC                     0.991655        0.998836      0.925485   \n",
              "PR AUC                      0.024040        0.100000      0.001733   \n",
              "\n",
              "          normal ecg  prolonged pr interval  prolonged qt interval  \\\n",
              "F1 Score    0.818472               0.000000               0.000000   \n",
              "Accuracy    0.815936               0.991851               0.998965   \n",
              "ROC AUC     0.915366               0.900371               0.886702   \n",
              "PR AUC      0.901976               0.161730               0.019721   \n",
              "\n",
              "          right bundle-branch block  right ventricular hypertrophy  \\\n",
              "F1 Score                   0.850856                            0.0   \n",
              "Accuracy                   0.992110                            1.0   \n",
              "ROC AUC                    0.996848                            NaN   \n",
              "PR AUC                     0.959948                            NaN   \n",
              "\n",
              "          right-axis deviation  second-degree av block  short pr interval  \\\n",
              "F1 Score              0.000000                0.000000           0.000000   \n",
              "Accuracy              0.993144                0.999612           0.999741   \n",
              "ROC AUC               0.857599                0.993099           0.449799   \n",
              "PR AUC                0.098699                0.041770           0.000343   \n",
              "\n",
              "          sinus arrhythmia  sinus bradycardia  sinus tachycardia  \\\n",
              "F1 Score          0.149533           0.893591           0.852174   \n",
              "Accuracy          0.941146           0.977881           0.991204   \n",
              "ROC AUC           0.819298           0.994021           0.987970   \n",
              "PR AUC            0.391952           0.957815           0.928528   \n",
              "\n",
              "          st deviation  st deviation with t-wave change  \\\n",
              "F1 Score      0.136213                         0.393574   \n",
              "Accuracy      0.932738                         0.960936   \n",
              "ROC AUC       0.909812                         0.964605   \n",
              "PR AUC        0.452788                         0.538256   \n",
              "\n",
              "          st-t change due to ventricular hypertrophy  t-wave abnormality  \\\n",
              "F1 Score                                    0.000000            0.595702   \n",
              "Accuracy                                    0.996637            0.895356   \n",
              "ROC AUC                                     0.943265            0.951270   \n",
              "PR AUC                                      0.134079            0.681351   \n",
              "\n",
              "          tu fusion  varying conduction  ventricular preexcitation  \\\n",
              "F1 Score   0.000000            0.000000                   0.000000   \n",
              "Accuracy   0.999612            0.998189                   0.999353   \n",
              "ROC AUC    0.810732            0.979507                   0.756019   \n",
              "PR AUC     0.001831            0.107899                   0.017058   \n",
              "\n",
              "          ventricular premature complex(es)  \n",
              "F1 Score                           0.770992  \n",
              "Accuracy                           0.984478  \n",
              "ROC AUC                            0.931580  \n",
              "PR AUC                             0.811596  "
            ],
            "text/html": [
              "\n",
              "  <div id=\"df-d551170e-ed40-4a72-ab8e-9b4537e3ce9e\" class=\"colab-df-container\">\n",
              "    <div>\n",
              "<style scoped>\n",
              "    .dataframe tbody tr th:only-of-type {\n",
              "        vertical-align: middle;\n",
              "    }\n",
              "\n",
              "    .dataframe tbody tr th {\n",
              "        vertical-align: top;\n",
              "    }\n",
              "\n",
              "    .dataframe thead th {\n",
              "        text-align: right;\n",
              "    }\n",
              "</style>\n",
              "<table border=\"1\" class=\"dataframe\">\n",
              "  <thead>\n",
              "    <tr style=\"text-align: right;\">\n",
              "      <th></th>\n",
              "      <th>2:1 av block</th>\n",
              "      <th>advanced (high-grade)</th>\n",
              "      <th>anterior mi</th>\n",
              "      <th>anteroseptal mi</th>\n",
              "      <th>atrial fibrillation</th>\n",
              "      <th>atrial flutter</th>\n",
              "      <th>atrial premature complex(es)</th>\n",
              "      <th>atrial premature complexes</th>\n",
              "      <th>av block</th>\n",
              "      <th>av conduction ratio n:d</th>\n",
              "      <th>complete (third-degree)</th>\n",
              "      <th>early repolarization</th>\n",
              "      <th>extensive anterior mi</th>\n",
              "      <th>incomplete right bundle-branch block</th>\n",
              "      <th>inferior mi</th>\n",
              "      <th>junctional escape complex(es)</th>\n",
              "      <th>junctional premature complex(es)</th>\n",
              "      <th>junctional tachycardia</th>\n",
              "      <th>left anterior fascicular block</th>\n",
              "      <th>left atrial enlargement</th>\n",
              "      <th>left bundle-branch block</th>\n",
              "      <th>left posterior fascicular block</th>\n",
              "      <th>left ventricular hypertrophy</th>\n",
              "      <th>left-axis deviation</th>\n",
              "      <th>low voltage</th>\n",
              "      <th>mobitz type i (wenckebach)</th>\n",
              "      <th>mobitz type ii</th>\n",
              "      <th>nonconducted</th>\n",
              "      <th>normal ecg</th>\n",
              "      <th>prolonged pr interval</th>\n",
              "      <th>prolonged qt interval</th>\n",
              "      <th>right bundle-branch block</th>\n",
              "      <th>right ventricular hypertrophy</th>\n",
              "      <th>right-axis deviation</th>\n",
              "      <th>second-degree av block</th>\n",
              "      <th>short pr interval</th>\n",
              "      <th>sinus arrhythmia</th>\n",
              "      <th>sinus bradycardia</th>\n",
              "      <th>sinus tachycardia</th>\n",
              "      <th>st deviation</th>\n",
              "      <th>st deviation with t-wave change</th>\n",
              "      <th>st-t change due to ventricular hypertrophy</th>\n",
              "      <th>t-wave abnormality</th>\n",
              "      <th>tu fusion</th>\n",
              "      <th>varying conduction</th>\n",
              "      <th>ventricular preexcitation</th>\n",
              "      <th>ventricular premature complex(es)</th>\n",
              "    </tr>\n",
              "  </thead>\n",
              "  <tbody>\n",
              "    <tr>\n",
              "      <th>F1 Score</th>\n",
              "      <td>0.000000</td>\n",
              "      <td>0.0</td>\n",
              "      <td>0.000000</td>\n",
              "      <td>0.000000</td>\n",
              "      <td>0.753388</td>\n",
              "      <td>0.250000</td>\n",
              "      <td>0.392593</td>\n",
              "      <td>0.000000</td>\n",
              "      <td>0.000000</td>\n",
              "      <td>0.000000</td>\n",
              "      <td>0.000000</td>\n",
              "      <td>0.000000</td>\n",
              "      <td>0.0</td>\n",
              "      <td>0.233645</td>\n",
              "      <td>0.000000</td>\n",
              "      <td>0.000000</td>\n",
              "      <td>0.000000</td>\n",
              "      <td>0.000000</td>\n",
              "      <td>0.000000</td>\n",
              "      <td>0.000000</td>\n",
              "      <td>0.560000</td>\n",
              "      <td>0.000000</td>\n",
              "      <td>0.061538</td>\n",
              "      <td>0.000000</td>\n",
              "      <td>0.323450</td>\n",
              "      <td>0.000000</td>\n",
              "      <td>0.000000</td>\n",
              "      <td>0.000000</td>\n",
              "      <td>0.818472</td>\n",
              "      <td>0.000000</td>\n",
              "      <td>0.000000</td>\n",
              "      <td>0.850856</td>\n",
              "      <td>0.0</td>\n",
              "      <td>0.000000</td>\n",
              "      <td>0.000000</td>\n",
              "      <td>0.000000</td>\n",
              "      <td>0.149533</td>\n",
              "      <td>0.893591</td>\n",
              "      <td>0.852174</td>\n",
              "      <td>0.136213</td>\n",
              "      <td>0.393574</td>\n",
              "      <td>0.000000</td>\n",
              "      <td>0.595702</td>\n",
              "      <td>0.000000</td>\n",
              "      <td>0.000000</td>\n",
              "      <td>0.000000</td>\n",
              "      <td>0.770992</td>\n",
              "    </tr>\n",
              "    <tr>\n",
              "      <th>Accuracy</th>\n",
              "      <td>0.998577</td>\n",
              "      <td>1.0</td>\n",
              "      <td>0.997801</td>\n",
              "      <td>0.996378</td>\n",
              "      <td>0.988229</td>\n",
              "      <td>0.996896</td>\n",
              "      <td>0.978787</td>\n",
              "      <td>0.999871</td>\n",
              "      <td>0.997154</td>\n",
              "      <td>0.999871</td>\n",
              "      <td>0.998965</td>\n",
              "      <td>0.998448</td>\n",
              "      <td>1.0</td>\n",
              "      <td>0.957573</td>\n",
              "      <td>0.995085</td>\n",
              "      <td>0.999353</td>\n",
              "      <td>0.997672</td>\n",
              "      <td>0.999612</td>\n",
              "      <td>0.994050</td>\n",
              "      <td>0.999353</td>\n",
              "      <td>0.998577</td>\n",
              "      <td>0.999871</td>\n",
              "      <td>0.992110</td>\n",
              "      <td>0.995473</td>\n",
              "      <td>0.967533</td>\n",
              "      <td>0.999741</td>\n",
              "      <td>0.999871</td>\n",
              "      <td>0.999871</td>\n",
              "      <td>0.815936</td>\n",
              "      <td>0.991851</td>\n",
              "      <td>0.998965</td>\n",
              "      <td>0.992110</td>\n",
              "      <td>1.0</td>\n",
              "      <td>0.993144</td>\n",
              "      <td>0.999612</td>\n",
              "      <td>0.999741</td>\n",
              "      <td>0.941146</td>\n",
              "      <td>0.977881</td>\n",
              "      <td>0.991204</td>\n",
              "      <td>0.932738</td>\n",
              "      <td>0.960936</td>\n",
              "      <td>0.996637</td>\n",
              "      <td>0.895356</td>\n",
              "      <td>0.999612</td>\n",
              "      <td>0.998189</td>\n",
              "      <td>0.999353</td>\n",
              "      <td>0.984478</td>\n",
              "    </tr>\n",
              "    <tr>\n",
              "      <th>ROC AUC</th>\n",
              "      <td>0.996703</td>\n",
              "      <td>NaN</td>\n",
              "      <td>0.930996</td>\n",
              "      <td>0.935971</td>\n",
              "      <td>0.993662</td>\n",
              "      <td>0.984876</td>\n",
              "      <td>0.891075</td>\n",
              "      <td>0.934023</td>\n",
              "      <td>0.982665</td>\n",
              "      <td>0.986805</td>\n",
              "      <td>0.991325</td>\n",
              "      <td>0.871723</td>\n",
              "      <td>NaN</td>\n",
              "      <td>0.887340</td>\n",
              "      <td>0.786850</td>\n",
              "      <td>0.954207</td>\n",
              "      <td>0.900435</td>\n",
              "      <td>0.960533</td>\n",
              "      <td>0.952643</td>\n",
              "      <td>0.798059</td>\n",
              "      <td>0.999770</td>\n",
              "      <td>0.985252</td>\n",
              "      <td>0.939656</td>\n",
              "      <td>0.908806</td>\n",
              "      <td>0.939171</td>\n",
              "      <td>0.991655</td>\n",
              "      <td>0.998836</td>\n",
              "      <td>0.925485</td>\n",
              "      <td>0.915366</td>\n",
              "      <td>0.900371</td>\n",
              "      <td>0.886702</td>\n",
              "      <td>0.996848</td>\n",
              "      <td>NaN</td>\n",
              "      <td>0.857599</td>\n",
              "      <td>0.993099</td>\n",
              "      <td>0.449799</td>\n",
              "      <td>0.819298</td>\n",
              "      <td>0.994021</td>\n",
              "      <td>0.987970</td>\n",
              "      <td>0.909812</td>\n",
              "      <td>0.964605</td>\n",
              "      <td>0.943265</td>\n",
              "      <td>0.951270</td>\n",
              "      <td>0.810732</td>\n",
              "      <td>0.979507</td>\n",
              "      <td>0.756019</td>\n",
              "      <td>0.931580</td>\n",
              "    </tr>\n",
              "    <tr>\n",
              "      <th>PR AUC</th>\n",
              "      <td>0.407591</td>\n",
              "      <td>NaN</td>\n",
              "      <td>0.162119</td>\n",
              "      <td>0.097391</td>\n",
              "      <td>0.869928</td>\n",
              "      <td>0.367964</td>\n",
              "      <td>0.376989</td>\n",
              "      <td>0.001957</td>\n",
              "      <td>0.171483</td>\n",
              "      <td>0.009709</td>\n",
              "      <td>0.281624</td>\n",
              "      <td>0.007611</td>\n",
              "      <td>NaN</td>\n",
              "      <td>0.424138</td>\n",
              "      <td>0.032706</td>\n",
              "      <td>0.053134</td>\n",
              "      <td>0.021231</td>\n",
              "      <td>0.008861</td>\n",
              "      <td>0.283266</td>\n",
              "      <td>0.042363</td>\n",
              "      <td>0.935673</td>\n",
              "      <td>0.008696</td>\n",
              "      <td>0.350619</td>\n",
              "      <td>0.054358</td>\n",
              "      <td>0.287207</td>\n",
              "      <td>0.024040</td>\n",
              "      <td>0.100000</td>\n",
              "      <td>0.001733</td>\n",
              "      <td>0.901976</td>\n",
              "      <td>0.161730</td>\n",
              "      <td>0.019721</td>\n",
              "      <td>0.959948</td>\n",
              "      <td>NaN</td>\n",
              "      <td>0.098699</td>\n",
              "      <td>0.041770</td>\n",
              "      <td>0.000343</td>\n",
              "      <td>0.391952</td>\n",
              "      <td>0.957815</td>\n",
              "      <td>0.928528</td>\n",
              "      <td>0.452788</td>\n",
              "      <td>0.538256</td>\n",
              "      <td>0.134079</td>\n",
              "      <td>0.681351</td>\n",
              "      <td>0.001831</td>\n",
              "      <td>0.107899</td>\n",
              "      <td>0.017058</td>\n",
              "      <td>0.811596</td>\n",
              "    </tr>\n",
              "  </tbody>\n",
              "</table>\n",
              "</div>\n",
              "    <div class=\"colab-df-buttons\">\n",
              "\n",
              "  <div class=\"colab-df-container\">\n",
              "    <button class=\"colab-df-convert\" onclick=\"convertToInteractive('df-d551170e-ed40-4a72-ab8e-9b4537e3ce9e')\"\n",
              "            title=\"Convert this dataframe to an interactive table.\"\n",
              "            style=\"display:none;\">\n",
              "\n",
              "  <svg xmlns=\"http://www.w3.org/2000/svg\" height=\"24px\" viewBox=\"0 -960 960 960\">\n",
              "    <path d=\"M120-120v-720h720v720H120Zm60-500h600v-160H180v160Zm220 220h160v-160H400v160Zm0 220h160v-160H400v160ZM180-400h160v-160H180v160Zm440 0h160v-160H620v160ZM180-180h160v-160H180v160Zm440 0h160v-160H620v160Z\"/>\n",
              "  </svg>\n",
              "    </button>\n",
              "\n",
              "  <style>\n",
              "    .colab-df-container {\n",
              "      display:flex;\n",
              "      gap: 12px;\n",
              "    }\n",
              "\n",
              "    .colab-df-convert {\n",
              "      background-color: #E8F0FE;\n",
              "      border: none;\n",
              "      border-radius: 50%;\n",
              "      cursor: pointer;\n",
              "      display: none;\n",
              "      fill: #1967D2;\n",
              "      height: 32px;\n",
              "      padding: 0 0 0 0;\n",
              "      width: 32px;\n",
              "    }\n",
              "\n",
              "    .colab-df-convert:hover {\n",
              "      background-color: #E2EBFA;\n",
              "      box-shadow: 0px 1px 2px rgba(60, 64, 67, 0.3), 0px 1px 3px 1px rgba(60, 64, 67, 0.15);\n",
              "      fill: #174EA6;\n",
              "    }\n",
              "\n",
              "    .colab-df-buttons div {\n",
              "      margin-bottom: 4px;\n",
              "    }\n",
              "\n",
              "    [theme=dark] .colab-df-convert {\n",
              "      background-color: #3B4455;\n",
              "      fill: #D2E3FC;\n",
              "    }\n",
              "\n",
              "    [theme=dark] .colab-df-convert:hover {\n",
              "      background-color: #434B5C;\n",
              "      box-shadow: 0px 1px 3px 1px rgba(0, 0, 0, 0.15);\n",
              "      filter: drop-shadow(0px 1px 2px rgba(0, 0, 0, 0.3));\n",
              "      fill: #FFFFFF;\n",
              "    }\n",
              "  </style>\n",
              "\n",
              "    <script>\n",
              "      const buttonEl =\n",
              "        document.querySelector('#df-d551170e-ed40-4a72-ab8e-9b4537e3ce9e button.colab-df-convert');\n",
              "      buttonEl.style.display =\n",
              "        google.colab.kernel.accessAllowed ? 'block' : 'none';\n",
              "\n",
              "      async function convertToInteractive(key) {\n",
              "        const element = document.querySelector('#df-d551170e-ed40-4a72-ab8e-9b4537e3ce9e');\n",
              "        const dataTable =\n",
              "          await google.colab.kernel.invokeFunction('convertToInteractive',\n",
              "                                                    [key], {});\n",
              "        if (!dataTable) return;\n",
              "\n",
              "        const docLinkHtml = 'Like what you see? Visit the ' +\n",
              "          '<a target=\"_blank\" href=https://colab.research.google.com/notebooks/data_table.ipynb>data table notebook</a>'\n",
              "          + ' to learn more about interactive tables.';\n",
              "        element.innerHTML = '';\n",
              "        dataTable['output_type'] = 'display_data';\n",
              "        await google.colab.output.renderOutput(dataTable, element);\n",
              "        const docLink = document.createElement('div');\n",
              "        docLink.innerHTML = docLinkHtml;\n",
              "        element.appendChild(docLink);\n",
              "      }\n",
              "    </script>\n",
              "  </div>\n",
              "\n",
              "\n",
              "<div id=\"df-194697a0-18cc-47ec-b376-b02c13f92262\">\n",
              "  <button class=\"colab-df-quickchart\" onclick=\"quickchart('df-194697a0-18cc-47ec-b376-b02c13f92262')\"\n",
              "            title=\"Suggest charts\"\n",
              "            style=\"display:none;\">\n",
              "\n",
              "<svg xmlns=\"http://www.w3.org/2000/svg\" height=\"24px\"viewBox=\"0 0 24 24\"\n",
              "     width=\"24px\">\n",
              "    <g>\n",
              "        <path d=\"M19 3H5c-1.1 0-2 .9-2 2v14c0 1.1.9 2 2 2h14c1.1 0 2-.9 2-2V5c0-1.1-.9-2-2-2zM9 17H7v-7h2v7zm4 0h-2V7h2v10zm4 0h-2v-4h2v4z\"/>\n",
              "    </g>\n",
              "</svg>\n",
              "  </button>\n",
              "\n",
              "<style>\n",
              "  .colab-df-quickchart {\n",
              "      --bg-color: #E8F0FE;\n",
              "      --fill-color: #1967D2;\n",
              "      --hover-bg-color: #E2EBFA;\n",
              "      --hover-fill-color: #174EA6;\n",
              "      --disabled-fill-color: #AAA;\n",
              "      --disabled-bg-color: #DDD;\n",
              "  }\n",
              "\n",
              "  [theme=dark] .colab-df-quickchart {\n",
              "      --bg-color: #3B4455;\n",
              "      --fill-color: #D2E3FC;\n",
              "      --hover-bg-color: #434B5C;\n",
              "      --hover-fill-color: #FFFFFF;\n",
              "      --disabled-bg-color: #3B4455;\n",
              "      --disabled-fill-color: #666;\n",
              "  }\n",
              "\n",
              "  .colab-df-quickchart {\n",
              "    background-color: var(--bg-color);\n",
              "    border: none;\n",
              "    border-radius: 50%;\n",
              "    cursor: pointer;\n",
              "    display: none;\n",
              "    fill: var(--fill-color);\n",
              "    height: 32px;\n",
              "    padding: 0;\n",
              "    width: 32px;\n",
              "  }\n",
              "\n",
              "  .colab-df-quickchart:hover {\n",
              "    background-color: var(--hover-bg-color);\n",
              "    box-shadow: 0 1px 2px rgba(60, 64, 67, 0.3), 0 1px 3px 1px rgba(60, 64, 67, 0.15);\n",
              "    fill: var(--button-hover-fill-color);\n",
              "  }\n",
              "\n",
              "  .colab-df-quickchart-complete:disabled,\n",
              "  .colab-df-quickchart-complete:disabled:hover {\n",
              "    background-color: var(--disabled-bg-color);\n",
              "    fill: var(--disabled-fill-color);\n",
              "    box-shadow: none;\n",
              "  }\n",
              "\n",
              "  .colab-df-spinner {\n",
              "    border: 2px solid var(--fill-color);\n",
              "    border-color: transparent;\n",
              "    border-bottom-color: var(--fill-color);\n",
              "    animation:\n",
              "      spin 1s steps(1) infinite;\n",
              "  }\n",
              "\n",
              "  @keyframes spin {\n",
              "    0% {\n",
              "      border-color: transparent;\n",
              "      border-bottom-color: var(--fill-color);\n",
              "      border-left-color: var(--fill-color);\n",
              "    }\n",
              "    20% {\n",
              "      border-color: transparent;\n",
              "      border-left-color: var(--fill-color);\n",
              "      border-top-color: var(--fill-color);\n",
              "    }\n",
              "    30% {\n",
              "      border-color: transparent;\n",
              "      border-left-color: var(--fill-color);\n",
              "      border-top-color: var(--fill-color);\n",
              "      border-right-color: var(--fill-color);\n",
              "    }\n",
              "    40% {\n",
              "      border-color: transparent;\n",
              "      border-right-color: var(--fill-color);\n",
              "      border-top-color: var(--fill-color);\n",
              "    }\n",
              "    60% {\n",
              "      border-color: transparent;\n",
              "      border-right-color: var(--fill-color);\n",
              "    }\n",
              "    80% {\n",
              "      border-color: transparent;\n",
              "      border-right-color: var(--fill-color);\n",
              "      border-bottom-color: var(--fill-color);\n",
              "    }\n",
              "    90% {\n",
              "      border-color: transparent;\n",
              "      border-bottom-color: var(--fill-color);\n",
              "    }\n",
              "  }\n",
              "</style>\n",
              "\n",
              "  <script>\n",
              "    async function quickchart(key) {\n",
              "      const quickchartButtonEl =\n",
              "        document.querySelector('#' + key + ' button');\n",
              "      quickchartButtonEl.disabled = true;  // To prevent multiple clicks.\n",
              "      quickchartButtonEl.classList.add('colab-df-spinner');\n",
              "      try {\n",
              "        const charts = await google.colab.kernel.invokeFunction(\n",
              "            'suggestCharts', [key], {});\n",
              "      } catch (error) {\n",
              "        console.error('Error during call to suggestCharts:', error);\n",
              "      }\n",
              "      quickchartButtonEl.classList.remove('colab-df-spinner');\n",
              "      quickchartButtonEl.classList.add('colab-df-quickchart-complete');\n",
              "    }\n",
              "    (() => {\n",
              "      let quickchartButtonEl =\n",
              "        document.querySelector('#df-194697a0-18cc-47ec-b376-b02c13f92262 button');\n",
              "      quickchartButtonEl.style.display =\n",
              "        google.colab.kernel.accessAllowed ? 'block' : 'none';\n",
              "    })();\n",
              "  </script>\n",
              "</div>\n",
              "\n",
              "  <div id=\"id_b61d35fc-03c3-476e-bcef-24f0f08ad0af\">\n",
              "    <style>\n",
              "      .colab-df-generate {\n",
              "        background-color: #E8F0FE;\n",
              "        border: none;\n",
              "        border-radius: 50%;\n",
              "        cursor: pointer;\n",
              "        display: none;\n",
              "        fill: #1967D2;\n",
              "        height: 32px;\n",
              "        padding: 0 0 0 0;\n",
              "        width: 32px;\n",
              "      }\n",
              "\n",
              "      .colab-df-generate:hover {\n",
              "        background-color: #E2EBFA;\n",
              "        box-shadow: 0px 1px 2px rgba(60, 64, 67, 0.3), 0px 1px 3px 1px rgba(60, 64, 67, 0.15);\n",
              "        fill: #174EA6;\n",
              "      }\n",
              "\n",
              "      [theme=dark] .colab-df-generate {\n",
              "        background-color: #3B4455;\n",
              "        fill: #D2E3FC;\n",
              "      }\n",
              "\n",
              "      [theme=dark] .colab-df-generate:hover {\n",
              "        background-color: #434B5C;\n",
              "        box-shadow: 0px 1px 3px 1px rgba(0, 0, 0, 0.15);\n",
              "        filter: drop-shadow(0px 1px 2px rgba(0, 0, 0, 0.3));\n",
              "        fill: #FFFFFF;\n",
              "      }\n",
              "    </style>\n",
              "    <button class=\"colab-df-generate\" onclick=\"generateWithVariable('baseline_results_df')\"\n",
              "            title=\"Generate code using this dataframe.\"\n",
              "            style=\"display:none;\">\n",
              "\n",
              "  <svg xmlns=\"http://www.w3.org/2000/svg\" height=\"24px\"viewBox=\"0 0 24 24\"\n",
              "       width=\"24px\">\n",
              "    <path d=\"M7,19H8.4L18.45,9,17,7.55,7,17.6ZM5,21V16.75L18.45,3.32a2,2,0,0,1,2.83,0l1.4,1.43a1.91,1.91,0,0,1,.58,1.4,1.91,1.91,0,0,1-.58,1.4L9.25,21ZM18.45,9,17,7.55Zm-12,3A5.31,5.31,0,0,0,4.9,8.1,5.31,5.31,0,0,0,1,6.5,5.31,5.31,0,0,0,4.9,4.9,5.31,5.31,0,0,0,6.5,1,5.31,5.31,0,0,0,8.1,4.9,5.31,5.31,0,0,0,12,6.5,5.46,5.46,0,0,0,6.5,12Z\"/>\n",
              "  </svg>\n",
              "    </button>\n",
              "    <script>\n",
              "      (() => {\n",
              "      const buttonEl =\n",
              "        document.querySelector('#id_b61d35fc-03c3-476e-bcef-24f0f08ad0af button.colab-df-generate');\n",
              "      buttonEl.style.display =\n",
              "        google.colab.kernel.accessAllowed ? 'block' : 'none';\n",
              "\n",
              "      buttonEl.onclick = () => {\n",
              "        google.colab.notebook.generateWithVariable('baseline_results_df');\n",
              "      }\n",
              "      })();\n",
              "    </script>\n",
              "  </div>\n",
              "\n",
              "    </div>\n",
              "  </div>\n"
            ],
            "application/vnd.google.colaboratory.intrinsic+json": {
              "type": "dataframe",
              "variable_name": "baseline_results_df"
            }
          },
          "metadata": {},
          "execution_count": 42
        }
      ]
    },
    {
      "cell_type": "code",
      "source": [
        "baseline_results_df.to_csv('baseline_results.csv')"
      ],
      "metadata": {
        "id": "LvIdRWjDIQdS"
      },
      "execution_count": null,
      "outputs": []
    },
    {
      "cell_type": "code",
      "source": [
        "from google.colab import files\n",
        "\n",
        "files.download('baseline_results.csv')"
      ],
      "metadata": {
        "colab": {
          "base_uri": "https://localhost:8080/",
          "height": 17
        },
        "id": "HqzcldU4IYkE",
        "outputId": "3fbd2d2c-d42c-435d-f424-30b0dc09e27a"
      },
      "execution_count": null,
      "outputs": [
        {
          "output_type": "display_data",
          "data": {
            "text/plain": [
              "<IPython.core.display.Javascript object>"
            ],
            "application/javascript": [
              "\n",
              "    async function download(id, filename, size) {\n",
              "      if (!google.colab.kernel.accessAllowed) {\n",
              "        return;\n",
              "      }\n",
              "      const div = document.createElement('div');\n",
              "      const label = document.createElement('label');\n",
              "      label.textContent = `Downloading \"${filename}\": `;\n",
              "      div.appendChild(label);\n",
              "      const progress = document.createElement('progress');\n",
              "      progress.max = size;\n",
              "      div.appendChild(progress);\n",
              "      document.body.appendChild(div);\n",
              "\n",
              "      const buffers = [];\n",
              "      let downloaded = 0;\n",
              "\n",
              "      const channel = await google.colab.kernel.comms.open(id);\n",
              "      // Send a message to notify the kernel that we're ready.\n",
              "      channel.send({})\n",
              "\n",
              "      for await (const message of channel.messages) {\n",
              "        // Send a message to notify the kernel that we're ready.\n",
              "        channel.send({})\n",
              "        if (message.buffers) {\n",
              "          for (const buffer of message.buffers) {\n",
              "            buffers.push(buffer);\n",
              "            downloaded += buffer.byteLength;\n",
              "            progress.value = downloaded;\n",
              "          }\n",
              "        }\n",
              "      }\n",
              "      const blob = new Blob(buffers, {type: 'application/binary'});\n",
              "      const a = document.createElement('a');\n",
              "      a.href = window.URL.createObjectURL(blob);\n",
              "      a.download = filename;\n",
              "      div.appendChild(a);\n",
              "      a.click();\n",
              "      div.remove();\n",
              "    }\n",
              "  "
            ]
          },
          "metadata": {}
        },
        {
          "output_type": "display_data",
          "data": {
            "text/plain": [
              "<IPython.core.display.Javascript object>"
            ],
            "application/javascript": [
              "download(\"download_84889604-4a09-4012-b07d-a75382c15323\", \"baseline_results.csv\", 4013)"
            ]
          },
          "metadata": {}
        }
      ]
    }
  ]
}